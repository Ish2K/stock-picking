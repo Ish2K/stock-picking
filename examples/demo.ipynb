{
 "cells": [
  {
   "cell_type": "code",
   "execution_count": 1,
   "metadata": {},
   "outputs": [
    {
     "name": "stdout",
     "output_type": "stream",
     "text": [
      "Requirement already satisfied: stock-picking in c:\\users\\ishaa\\onedrive\\desktop\\pythonprojects\\stock-picking\\venv\\lib\\site-packages (0.1.0)\n",
      "Requirement already satisfied: yfinance in c:\\users\\ishaa\\onedrive\\desktop\\pythonprojects\\stock-picking\\venv\\lib\\site-packages (from stock-picking) (0.2.51)\n",
      "Requirement already satisfied: pandas in c:\\users\\ishaa\\onedrive\\desktop\\pythonprojects\\stock-picking\\venv\\lib\\site-packages (from stock-picking) (2.2.3)\n",
      "Requirement already satisfied: numpy in c:\\users\\ishaa\\onedrive\\desktop\\pythonprojects\\stock-picking\\venv\\lib\\site-packages (from stock-picking) (2.2.1)\n",
      "Requirement already satisfied: python-dateutil>=2.8.2 in c:\\users\\ishaa\\onedrive\\desktop\\pythonprojects\\stock-picking\\venv\\lib\\site-packages (from pandas->stock-picking) (2.9.0.post0)\n",
      "Requirement already satisfied: pytz>=2020.1 in c:\\users\\ishaa\\onedrive\\desktop\\pythonprojects\\stock-picking\\venv\\lib\\site-packages (from pandas->stock-picking) (2024.2)\n",
      "Requirement already satisfied: tzdata>=2022.7 in c:\\users\\ishaa\\onedrive\\desktop\\pythonprojects\\stock-picking\\venv\\lib\\site-packages (from pandas->stock-picking) (2024.2)\n",
      "Requirement already satisfied: requests>=2.31 in c:\\users\\ishaa\\onedrive\\desktop\\pythonprojects\\stock-picking\\venv\\lib\\site-packages (from yfinance->stock-picking) (2.32.3)\n",
      "Requirement already satisfied: multitasking>=0.0.7 in c:\\users\\ishaa\\onedrive\\desktop\\pythonprojects\\stock-picking\\venv\\lib\\site-packages (from yfinance->stock-picking) (0.0.11)\n",
      "Requirement already satisfied: lxml>=4.9.1 in c:\\users\\ishaa\\onedrive\\desktop\\pythonprojects\\stock-picking\\venv\\lib\\site-packages (from yfinance->stock-picking) (5.3.0)\n",
      "Requirement already satisfied: platformdirs>=2.0.0 in c:\\users\\ishaa\\onedrive\\desktop\\pythonprojects\\stock-picking\\venv\\lib\\site-packages (from yfinance->stock-picking) (4.3.6)\n",
      "Requirement already satisfied: frozendict>=2.3.4 in c:\\users\\ishaa\\onedrive\\desktop\\pythonprojects\\stock-picking\\venv\\lib\\site-packages (from yfinance->stock-picking) (2.4.6)\n",
      "Requirement already satisfied: peewee>=3.16.2 in c:\\users\\ishaa\\onedrive\\desktop\\pythonprojects\\stock-picking\\venv\\lib\\site-packages (from yfinance->stock-picking) (3.17.8)\n",
      "Requirement already satisfied: beautifulsoup4>=4.11.1 in c:\\users\\ishaa\\onedrive\\desktop\\pythonprojects\\stock-picking\\venv\\lib\\site-packages (from yfinance->stock-picking) (4.12.3)\n",
      "Requirement already satisfied: html5lib>=1.1 in c:\\users\\ishaa\\onedrive\\desktop\\pythonprojects\\stock-picking\\venv\\lib\\site-packages (from yfinance->stock-picking) (1.1)\n",
      "Requirement already satisfied: soupsieve>1.2 in c:\\users\\ishaa\\onedrive\\desktop\\pythonprojects\\stock-picking\\venv\\lib\\site-packages (from beautifulsoup4>=4.11.1->yfinance->stock-picking) (2.6)\n",
      "Requirement already satisfied: six>=1.9 in c:\\users\\ishaa\\onedrive\\desktop\\pythonprojects\\stock-picking\\venv\\lib\\site-packages (from html5lib>=1.1->yfinance->stock-picking) (1.17.0)\n",
      "Requirement already satisfied: webencodings in c:\\users\\ishaa\\onedrive\\desktop\\pythonprojects\\stock-picking\\venv\\lib\\site-packages (from html5lib>=1.1->yfinance->stock-picking) (0.5.1)\n",
      "Requirement already satisfied: charset-normalizer<4,>=2 in c:\\users\\ishaa\\onedrive\\desktop\\pythonprojects\\stock-picking\\venv\\lib\\site-packages (from requests>=2.31->yfinance->stock-picking) (3.4.1)\n",
      "Requirement already satisfied: idna<4,>=2.5 in c:\\users\\ishaa\\onedrive\\desktop\\pythonprojects\\stock-picking\\venv\\lib\\site-packages (from requests>=2.31->yfinance->stock-picking) (3.10)\n",
      "Requirement already satisfied: urllib3<3,>=1.21.1 in c:\\users\\ishaa\\onedrive\\desktop\\pythonprojects\\stock-picking\\venv\\lib\\site-packages (from requests>=2.31->yfinance->stock-picking) (2.3.0)\n",
      "Requirement already satisfied: certifi>=2017.4.17 in c:\\users\\ishaa\\onedrive\\desktop\\pythonprojects\\stock-picking\\venv\\lib\\site-packages (from requests>=2.31->yfinance->stock-picking) (2024.12.14)\n"
     ]
    }
   ],
   "source": [
    "!pip install stock-picking"
   ]
  },
  {
   "cell_type": "markdown",
   "metadata": {},
   "source": [
    "### Getting Financial Data"
   ]
  },
  {
   "cell_type": "code",
   "execution_count": 3,
   "metadata": {},
   "outputs": [
    {
     "data": {
      "text/plain": [
       "{'net_income': 93736000000.0,\n",
       " 'operating_cash_flow': 118254000000.0,\n",
       " 'roa_current': 0.25682503150857583,\n",
       " 'roa_previous': 0.27509834563776475,\n",
       " 'leverage_current': 0.8439640528248123,\n",
       " 'leverage_previous': 0.8237407929480435,\n",
       " 'current_ratio_current': 0.8673125765340832,\n",
       " 'current_ratio_previous': 0.9880116717592975,\n",
       " 'shares_outstanding_current': 15115799552,\n",
       " 'shares_outstanding_previous': 15115799552,\n",
       " 'gross_margin_current': 0.4620634981523393,\n",
       " 'gross_margin_previous': 0.4413112957720756,\n",
       " 'asset_turnover_current': 1.0713874732862074,\n",
       " 'asset_turnover_previous': 1.087077369016657,\n",
       " 'PE Ratio': 40.026318,\n",
       " 'PB Ratio': 64.603134,\n",
       " 'PS Ratio': 9.407293,\n",
       " 'EV to EBITDA': 27.588,\n",
       " 'EV to Sales': 9.501,\n",
       " 'EV to EBIT': 27.588,\n",
       " 'Earnings Per Share': 6.08,\n",
       " 'Dividend Yield': 0.0041,\n",
       " 'Quick Ratio': 0.745,\n",
       " 'Current Ratio': 0.867,\n",
       " 'Debt to Equity': 209.059,\n",
       " 'Last Price': np.float64(243.37),\n",
       " 'Industry': 'Consumer Electronics',\n",
       " 'Market Cap': 3678581030912}"
      ]
     },
     "execution_count": 3,
     "metadata": {},
     "output_type": "execute_result"
    }
   ],
   "source": [
    "from stock_picking import fetch_financial_data\n",
    "\n",
    "financial_data = fetch_financial_data('AAPL')\n",
    "financial_data"
   ]
  },
  {
   "cell_type": "markdown",
   "metadata": {},
   "source": [
    "### Calculating Piotroski Score"
   ]
  },
  {
   "cell_type": "code",
   "execution_count": 4,
   "metadata": {},
   "outputs": [
    {
     "data": {
      "text/plain": [
       "{'Profitablity': 3,\n",
       " 'Leverage': 1,\n",
       " 'Operating Efficiency': 1,\n",
       " 'Piotroski Score': 5}"
      ]
     },
     "execution_count": 4,
     "metadata": {},
     "output_type": "execute_result"
    }
   ],
   "source": [
    "from stock_picking import calculate_piotroski_score\n",
    "\n",
    "calculate_piotroski_score(financials=financial_data)"
   ]
  },
  {
   "cell_type": "markdown",
   "metadata": {},
   "source": [
    "### Getting Top Stocks"
   ]
  },
  {
   "cell_type": "code",
   "execution_count": 5,
   "metadata": {},
   "outputs": [
    {
     "data": {
      "text/html": [
       "<div>\n",
       "<style scoped>\n",
       "    .dataframe tbody tr th:only-of-type {\n",
       "        vertical-align: middle;\n",
       "    }\n",
       "\n",
       "    .dataframe tbody tr th {\n",
       "        vertical-align: top;\n",
       "    }\n",
       "\n",
       "    .dataframe thead th {\n",
       "        text-align: right;\n",
       "    }\n",
       "</style>\n",
       "<table border=\"1\" class=\"dataframe\">\n",
       "  <thead>\n",
       "    <tr style=\"text-align: right;\">\n",
       "      <th></th>\n",
       "      <th>Ticker</th>\n",
       "      <th>Industry</th>\n",
       "      <th>Market Cap</th>\n",
       "      <th>Stock Return %</th>\n",
       "      <th>Profitablity</th>\n",
       "      <th>Leverage</th>\n",
       "      <th>Operating Efficiency</th>\n",
       "      <th>Piotroski Score</th>\n",
       "    </tr>\n",
       "  </thead>\n",
       "  <tbody>\n",
       "    <tr>\n",
       "      <th>APO</th>\n",
       "      <td>APO</td>\n",
       "      <td>Asset Management</td>\n",
       "      <td>91141644288</td>\n",
       "      <td>5.879066</td>\n",
       "      <td>4</td>\n",
       "      <td>3</td>\n",
       "      <td>2</td>\n",
       "      <td>9</td>\n",
       "    </tr>\n",
       "    <tr>\n",
       "      <th>PDD</th>\n",
       "      <td>PDD</td>\n",
       "      <td>Internet Retail</td>\n",
       "      <td>140168560640</td>\n",
       "      <td>9.947488</td>\n",
       "      <td>4</td>\n",
       "      <td>3</td>\n",
       "      <td>1</td>\n",
       "      <td>8</td>\n",
       "    </tr>\n",
       "    <tr>\n",
       "      <th>WYNN</th>\n",
       "      <td>WYNN</td>\n",
       "      <td>Resorts &amp; Casinos</td>\n",
       "      <td>8963100672</td>\n",
       "      <td>10.205832</td>\n",
       "      <td>4</td>\n",
       "      <td>2</td>\n",
       "      <td>2</td>\n",
       "      <td>8</td>\n",
       "    </tr>\n",
       "    <tr>\n",
       "      <th>MO</th>\n",
       "      <td>MO</td>\n",
       "      <td>Tobacco</td>\n",
       "      <td>86816636928</td>\n",
       "      <td>11.557985</td>\n",
       "      <td>4</td>\n",
       "      <td>2</td>\n",
       "      <td>1</td>\n",
       "      <td>7</td>\n",
       "    </tr>\n",
       "  </tbody>\n",
       "</table>\n",
       "</div>"
      ],
      "text/plain": [
       "     Ticker           Industry    Market Cap Stock Return % Profitablity  \\\n",
       "APO     APO   Asset Management   91141644288       5.879066            4   \n",
       "PDD     PDD    Internet Retail  140168560640       9.947488            4   \n",
       "WYNN   WYNN  Resorts & Casinos    8963100672      10.205832            4   \n",
       "MO       MO            Tobacco   86816636928      11.557985            4   \n",
       "\n",
       "     Leverage Operating Efficiency Piotroski Score  \n",
       "APO         3                    2               9  \n",
       "PDD         3                    1               8  \n",
       "WYNN        2                    2               8  \n",
       "MO          2                    1               7  "
      ]
     },
     "execution_count": 5,
     "metadata": {},
     "output_type": "execute_result"
    }
   ],
   "source": [
    "from stock_picking import get_top_stocks\n",
    "\n",
    "tickers = ['MO', 'WYNN', 'PDD', 'APO']\n",
    "\n",
    "get_top_stocks(tickers=tickers, exchange='NYSE', generate_csv=False)"
   ]
  },
  {
   "cell_type": "code",
   "execution_count": null,
   "metadata": {},
   "outputs": [],
   "source": []
  }
 ],
 "metadata": {
  "kernelspec": {
   "display_name": "venv",
   "language": "python",
   "name": "python3"
  },
  "language_info": {
   "codemirror_mode": {
    "name": "ipython",
    "version": 3
   },
   "file_extension": ".py",
   "mimetype": "text/x-python",
   "name": "python",
   "nbconvert_exporter": "python",
   "pygments_lexer": "ipython3",
   "version": "3.12.6"
  }
 },
 "nbformat": 4,
 "nbformat_minor": 2
}
